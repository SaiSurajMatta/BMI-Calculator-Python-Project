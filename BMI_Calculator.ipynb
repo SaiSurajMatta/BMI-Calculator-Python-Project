{
  "nbformat": 4,
  "nbformat_minor": 0,
  "metadata": {
    "colab": {
      "provenance": []
    },
    "kernelspec": {
      "name": "python3",
      "display_name": "Python 3"
    },
    "language_info": {
      "name": "python"
    }
  },
  "cells": [
    {
      "cell_type": "markdown",
      "source": [
        "# BMI Calculator"
      ],
      "metadata": {
        "id": "BVCIwOu1VtV3"
      }
    },
    {
      "cell_type": "code",
      "execution_count": 14,
      "metadata": {
        "id": "zL3AbGoJQ7za",
        "colab": {
          "base_uri": "https://localhost:8080/"
        },
        "outputId": "67d46b7b-b8d0-4a00-a816-6d24784c38c3"
      },
      "outputs": [
        {
          "name": "stdout",
          "output_type": "stream",
          "text": [
            "Please enter your name: Sai\n"
          ]
        }
      ],
      "source": [
        "Name = input(\"Please enter your name: \")"
      ]
    },
    {
      "cell_type": "code",
      "source": [
        "Weight = int(input(\"Please enter your weight in pounds: \"))"
      ],
      "metadata": {
        "colab": {
          "base_uri": "https://localhost:8080/"
        },
        "id": "gjf8aNZTV2bW",
        "outputId": "37a75cb9-9095-41ba-880e-e3d6da8d4910"
      },
      "execution_count": 15,
      "outputs": [
        {
          "name": "stdout",
          "output_type": "stream",
          "text": [
            "Please enter your weight in pounds: 132\n"
          ]
        }
      ]
    },
    {
      "cell_type": "code",
      "source": [
        "Height = int(input(\"Please enter your height in inches: \"))"
      ],
      "metadata": {
        "colab": {
          "base_uri": "https://localhost:8080/"
        },
        "id": "LvPuxXSoV8lK",
        "outputId": "2bf20412-f518-45de-d1c6-068f6e089a39"
      },
      "execution_count": 16,
      "outputs": [
        {
          "name": "stdout",
          "output_type": "stream",
          "text": [
            "Please enter your height in inches: 61\n"
          ]
        }
      ]
    },
    {
      "cell_type": "code",
      "source": [
        "BMI = (Weight * 703) / (Height * Height)"
      ],
      "metadata": {
        "id": "FXVLv5mFWDku"
      },
      "execution_count": 34,
      "outputs": []
    },
    {
      "cell_type": "code",
      "source": [
        "print(BMI)"
      ],
      "metadata": {
        "colab": {
          "base_uri": "https://localhost:8080/"
        },
        "id": "RcbfFvcnWQwN",
        "outputId": "34c37023-9da7-4c0d-805d-4f3bd795d1df"
      },
      "execution_count": 35,
      "outputs": [
        {
          "output_type": "stream",
          "name": "stdout",
          "text": [
            "24.938457403923678\n"
          ]
        }
      ]
    },
    {
      "cell_type": "code",
      "source": [
        "if BMI > 0:\n",
        "  if BMI <= 18.5:\n",
        "    print(Name + \", you are underweight\")\n",
        "  elif BMI <= 24.9:\n",
        "    print(Name + \", you are Normal Weight\")\n",
        "  elif BMI <= 29.9:\n",
        "    print(Name + \", you are Over Weight\")\n",
        "  elif BMI >= 30:\n",
        "    print(Name + \", you are obese!\")\n",
        "else:\n",
        "  print(\"Enter valid input\")"
      ],
      "metadata": {
        "colab": {
          "base_uri": "https://localhost:8080/"
        },
        "id": "G4HGtAfbWfuB",
        "outputId": "6decdaf1-950d-413f-c135-2891736799f0"
      },
      "execution_count": 36,
      "outputs": [
        {
          "output_type": "stream",
          "name": "stdout",
          "text": [
            "Sai, you are Over Weight\n"
          ]
        }
      ]
    }
  ]
}